{
 "cells": [
  {
   "cell_type": "markdown",
   "metadata": {},
   "source": [
    "# Primeiro Programa "
   ]
  },
  {
   "cell_type": "code",
   "execution_count": null,
   "metadata": {},
   "outputs": [],
   "source": [
    "print('primeiro programa')\n",
    "1 \\\n",
    " + 2\n",
    "\n",
    "\n",
    "\n",
    "# %%\n",
    "1 + 2 + 3\n",
    "4 + 5 + 6\n",
    "\n",
    "# %%\n",
    "print(1 + 2 + 3)\n",
    "print(4 + 5 + 6)  \n",
    "\n",
    "help(print)"
   ]
  },
  {
   "cell_type": "markdown",
   "metadata": {},
   "source": [
    "# Tipos Básicos"
   ]
  },
  {
   "cell_type": "code",
   "execution_count": null,
   "metadata": {},
   "outputs": [],
   "source": [
    "# %%\n",
    "print(True)\n",
    "print(False)\n",
    "print(1.2 + 1)\n",
    "print('Aqui eu falo na minha lingua!')\n",
    "print(\"Tb funciona.\")\n",
    "print('Você é ' + 3 * 'muito ' + 'legal!')\n",
    "# print(3 + '3') -> ambiguidade\n",
    "print([1, 2, 3])\n",
    "print({'nome': 'Pedro', 'idade': 22})\n",
    "print(None)\n"
   ]
  },
  {
   "cell_type": "markdown",
   "metadata": {},
   "source": [
    "# Variáveis "
   ]
  },
  {
   "cell_type": "code",
   "execution_count": null,
   "metadata": {},
   "outputs": [],
   "source": [
    "a = 10\n",
    "b = 5.2\n",
    "\n",
    "print(a + b)\n",
    "\n",
    "a = 'Agora sou uma string!'\n",
    "print(a)\n",
    "a\n",
    "b\n",
    "\n",
    "# print(a + b)"
   ]
  },
  {
   "cell_type": "markdown",
   "metadata": {},
   "source": [
    "# Comentários "
   ]
  },
  {
   "cell_type": "code",
   "execution_count": null,
   "metadata": {},
   "outputs": [],
   "source": [
    "# Minhas variáveis\n",
    "salario = 3450.45\n",
    "despesas = 2456.2\n",
    "\n",
    "\"\"\"\n",
    "A ideia é calcular o\n",
    "quando vai sobrar no\n",
    "final do mes!\n",
    "\"\"\"\n",
    "print(salario - despesas)\n",
    "\n",
    "# print('Fim')\n",
    "print('Fim de verdade')  # comentário aqui tb vale!\n",
    "\n",
    "'''\n",
    "A ideia é calcular o\n",
    "quando vai sobrar no\n",
    "final do mes!\n",
    "'''\n",
    "print('Agora sim o fim de verdade')"
   ]
  },
  {
   "cell_type": "markdown",
   "metadata": {},
   "source": [
    "# Operadores Aritméticos "
   ]
  },
  {
   "cell_type": "code",
   "execution_count": null,
   "metadata": {},
   "outputs": [],
   "source": [
    "print(2 + 3)\n",
    "print(4 - 7)\n",
    "print(2 * 5.3)\n",
    "print(9.4 / 3)\n",
    "print(9.4 // 3)\n",
    "print(2 ** 8)\n",
    "print(10 % 3)\n",
    "\n",
    "a = 12\n",
    "b = a\n",
    "print(a + b)\n",
    "\n",
    "# %%\n",
    "# Minhas variáveis\n",
    "salario = 3450.45\n",
    "despesas = 2456.2\n"
   ]
  },
  {
   "cell_type": "markdown",
   "metadata": {},
   "source": [
    " # Desafio Operadores Aritméticos"
   ]
  },
  {
   "cell_type": "code",
   "execution_count": null,
   "metadata": {},
   "outputs": [],
   "source": [
    "# Minhas variáveis\n",
    "salario = 3450.45\n",
    "despesas = 2456.2\n",
    "\n",
    "# Resposta do desafio\n",
    "percentual_comprometido = despesas / salario * 100\n",
    "percentual_comprometido\n"
   ]
  },
  {
   "cell_type": "markdown",
   "metadata": {},
   "source": [
    "# Operadores Relacionais "
   ]
  },
  {
   "cell_type": "code",
   "execution_count": null,
   "metadata": {},
   "outputs": [],
   "source": [
    "print(3 > 4)\n",
    "print(4 >= 3)\n",
    "print(1 < 2)\n",
    "print(3 <= 1)\n",
    "print(3 != 2)\n",
    "print(3 == 3)\n",
    "print(2 == '2') "
   ]
  },
  {
   "cell_type": "markdown",
   "metadata": {},
   "source": [
    "# Operadores de Atribuição "
   ]
  },
  {
   "cell_type": "code",
   "execution_count": null,
   "metadata": {},
   "outputs": [],
   "source": [
    "a = 3\n",
    "a = a + 7\n",
    "print(a)\n",
    "\n",
    "# a = 5\n",
    "a += 5  # a = a + 5\n",
    "print(a)\n",
    "\n",
    "a -= 3\n",
    "print(a)\n",
    "\n",
    "a *= 2\n",
    "print(a)\n",
    "\n",
    "a /= 4\n",
    "print(a)\n",
    "\n",
    "a %= 4\n",
    "print(a)\n",
    "\n",
    "a **= 8\n",
    "print(a)\n",
    "\n",
    "a //= 256\n",
    "print(a)"
   ]
  },
  {
   "cell_type": "markdown",
   "metadata": {},
   "source": [
    "# Operadores Lógicos "
   ]
  },
  {
   "cell_type": "code",
   "execution_count": null,
   "metadata": {},
   "outputs": [],
   "source": [
    "True or False\n",
    "7 != 3 and 2 > 3\n",
    "\n",
    "# Tabela verdade do AND\n",
    "True and True\n",
    "True and False\n",
    "False and True\n",
    "False and False\n",
    "True and True and False and True and True and True\n",
    "\n",
    "# Tabela verdade do OR\n",
    "True or True\n",
    "True or False\n",
    "False or True\n",
    "False or False\n",
    "False or False or True or False or False or False\n",
    "\n",
    "# Tabela verdade do XOR\n",
    "# True != True\n",
    "# True != False\n",
    "# False != True\n",
    "# False != False\n",
    "\n",
    "# Operador de Negação (unário)\n",
    "not True\n",
    "not False\n",
    "\n",
    "not 0\n",
    "not 1\n",
    "not not -1\n",
    "not not True\n",
    "\n",
    "# Cuidado!\n",
    "True & False\n",
    "False | True\n",
    "True ^ False\n",
    "\n",
    "# AND Bit-a-bit\n",
    "# 3 = 11\n",
    "# 2 = 10\n",
    "# _ = 10\n",
    "3 & 2\n",
    "\n",
    "# OR Bit-a-bit\n",
    "# 3 = 11\n",
    "# 2 = 10\n",
    "# _ = 11\n",
    "3 | 2\n",
    "\n",
    "# XOR Bit-a-bit\n",
    "# 3 = 11\n",
    "# 2 = 10\n",
    "# _ = 01\n",
    "3 ^ 2\n",
    "\n",
    "# Um pouco de realidade\n",
    "saldo = 1000\n",
    "salario = 4000\n",
    "despesas = 3900\n",
    "\n",
    "saldo_positivo = saldo > 0\n",
    "despesas_controladas = salario - despesas >= 0.2 * salario\n",
    "\n",
    "meta = saldo_positivo and despesas_controladas\n",
    "meta\n",
    "\n",
    "# %%\n"
   ]
  },
  {
   "cell_type": "markdown",
   "metadata": {},
   "source": [
    "# Desafio Operadores Lógicos "
   ]
  },
  {
   "cell_type": "code",
   "execution_count": null,
   "metadata": {},
   "outputs": [],
   "source": [
    "trabalho_terca = True \n",
    "trabalho_quinta = True \n",
    "\n",
    "tv_52 = trabalho_terca and trabalho_quinta \n",
    "tv_30 = trabalho_terca != trabalho_quinta #xor\n",
    "sorvete = trabalho_terca or trabalho_quinta\n",
    "saude = not sorvete \n",
    "\n",
    "print(\"TV 52' = {} \\nTV 30' = {}  \\nSorvete = {}  \\nMais saude = {}\" .format(tv_52, tv_30, sorvete, saude)) \n"
   ]
  },
  {
   "cell_type": "markdown",
   "metadata": {},
   "source": [
    "# Operadores Unários "
   ]
  },
  {
   "cell_type": "code",
   "execution_count": null,
   "metadata": {},
   "outputs": [],
   "source": [
    "a = 3\n",
    "# a++\n",
    "# a += 1\n",
    "# a\n",
    "# a--\n",
    "# ++a\n",
    "# ++a\n",
    "-a\n",
    "+a\n",
    "\n",
    "not 0\n",
    "not 1\n",
    "not -2\n",
    "not False\n",
    "not not True"
   ]
  },
  {
   "cell_type": "markdown",
   "metadata": {},
   "source": [
    "# Operadores Ternários \n"
   ]
  },
  {
   "cell_type": "code",
   "execution_count": null,
   "metadata": {},
   "outputs": [],
   "source": [
    "esta_chuvendo = False\n",
    "\n",
    "print('Hoje estou com as roupas ' + ('secas.', 'molhadas.')[esta_chuvendo])\n",
    "print('Hoje estou com as roupas ' + \n",
    "('molhadas.' if esta_chuvendo else 'secas.')) "
   ]
  },
  {
   "cell_type": "markdown",
   "metadata": {},
   "source": [
    "# Mais operadores \n",
    "## Operador Membro e Operador Identidade "
   ]
  },
  {
   "cell_type": "code",
   "execution_count": null,
   "metadata": {},
   "outputs": [],
   "source": [
    "# Operador Membro \n",
    "lista = [1, 2, 3, 'Felipe', 'Taina'] \n",
    "\n",
    "print('Ana' in lista) # 'Ana' está na lista \n",
    "print(1 in lista) # 1 entá na lista\n",
    "print('Felipe' not in lista) # 'Felipe' não está na lista \n",
    "#print('Felipe' in not lista)\n",
    "\n",
    "\n",
    "#Operador Identidade \n",
    "x = 13 \n",
    "y = x \n",
    "z = 13 \n",
    "\n",
    "x is y # x é y \n",
    "x is 4  \n",
    "z is y # z é o mesmo valor de y  \n",
    "print(z is not 5 ) # z não é 5  \n",
    "\n",
    "lista1 = [1, 2, 3]\n",
    "lista2 = lista1 \n",
    "lista3 = [1, 2, 3] \n",
    "\n",
    "print(lista1 is lista2) # são o mesmo valor na memória \n",
    "print(lista1 is lista3) # apesar de alocarem o mesmo valor, estão alocadas em lugares diferentes na memória \n",
    "print(lista2 is not lista3) \n"
   ]
  },
  {
   "cell_type": "markdown",
   "metadata": {},
   "source": [
    "# Builtins "
   ]
  },
  {
   "cell_type": "code",
   "execution_count": null,
   "metadata": {
    "scrolled": true
   },
   "outputs": [],
   "source": [
    "__builtins__ .print(type('Boa Noite'))\n",
    "__builtins__ .print('Boa Noite') \n",
    "__builtins__ .help(dir) \n",
    "\n",
    "\n",
    "print(dir()) # mostra todo o escopo do python\n",
    "dir(__builtins__) # mostra todas as funções do modulo 'builtins'\n"
   ]
  },
  {
   "cell_type": "markdown",
   "metadata": {},
   "source": [
    "# Conversão de tipos "
   ]
  },
  {
   "cell_type": "code",
   "execution_count": null,
   "metadata": {},
   "outputs": [],
   "source": [
    "3 + 5  \n",
    "# 3 + '5' \n",
    "'3' + '5' \n",
    "\n",
    "a = 3 \n",
    "b = '3' \n",
    "\n",
    "print(a + int(b)) # convertando string em inteiro \n",
    "print (str(a) + b) # convertando int em str \n",
    "# 2 + int('3.3') ERROR, não converte float em int\n",
    "\n",
    "print(type(a), type(b)) # a conversão é apenas na hora da operação\n"
   ]
  },
  {
   "cell_type": "markdown",
   "metadata": {},
   "source": [
    "# Coerção Automática "
   ]
  },
  {
   "cell_type": "code",
   "execution_count": null,
   "metadata": {},
   "outputs": [],
   "source": [
    "10 / 2 # resultado de divisão sempre float  \n",
    "10 / 3 \n",
    "10 // 3 # duas barras entre dois inteiros, resultado inteiro. \n",
    "10 // 3.3 # se um valor for float entre //, resultado é float  \n",
    "2 + True # true = 1 \n",
    "3 * False # false = 0 "
   ]
  },
  {
   "cell_type": "markdown",
   "metadata": {},
   "source": [
    "# Tipos Numéricos "
   ]
  },
  {
   "cell_type": "code",
   "execution_count": null,
   "metadata": {},
   "outputs": [],
   "source": [
    "dir(int) # mostra as funcoes dentro do tipo inteiro \n",
    "dir(float) #  mostra as funcoes dentro do tipo float \n",
    "\n",
    "a = 2 #int\n",
    "b = 0.5 #float\n",
    "\n",
    "print(type(a + b))\n",
    "print(type(a - b))\n",
    "print(type(a / b))\n",
    "print(type(a * b)) \n",
    "\n",
    "print(b.is_integer()) #função que mostra se a variável é do tipo int, saída True/False \n",
    "#print(b.is_not_integer()) \n",
    "print(5.00.is_integer()) # na verdade, ela verifica se o valor não tem casa decimal ou se a casa decimal = 0 \n",
    "\n",
    "int.__add__(2,3) # chamando a função de dentro do int \n",
    "int.__abs__(-2)\n",
    "abs(-2) \n"
   ]
  },
  {
   "cell_type": "code",
   "execution_count": null,
   "metadata": {},
   "outputs": [],
   "source": [
    "# IMPORTANDO DECIMAL \n",
    "\n",
    "1.1 + 2.2  # 3.30...3  \n",
    "\n",
    "# Para contornar isso é possível usar o módulo Decimal (que é dezenas de vezes mais lento, porém preciso)\n",
    "\n",
    "from decimal import getcontext, Decimal \n",
    "\n",
    "Decimal(1) / Decimal(9) \n",
    "\n",
    "print(Decimal(1.1) + Decimal(2.2)) # ??? Era pra ter dado '3.300' \n",
    "\n",
    "getcontext().prec = 52 # limite de 52 casas decimais\n",
    "Decimal(1.1) + Decimal(2.3) # ??? Era pra ter dado '3.300' \n",
    "\n",
    "dir(Decimal) \n",
    "dir(getcontext) \n",
    "\n",
    "\n"
   ]
  },
  {
   "cell_type": "markdown",
   "metadata": {},
   "source": [
    "# Tipos Strings "
   ]
  },
  {
   "cell_type": "code",
   "execution_count": null,
   "metadata": {},
   "outputs": [],
   "source": [
    "#PARTE 1\n",
    "dir(str) \n",
    "nome = 'Felipe Ramalho'\n",
    "nome \n",
    "nome[0] # primeira letra da variável \n",
    "\n",
    "# nome[0] = 'P' , não pode valor a variável \n",
    "\n",
    "#'Marca d'agua' , vai aparecer só 'marca d' \n",
    "\n",
    "\"Marca d'agua\" == 'Marca d\\'agua' #certo \n",
    "\n",
    "texto = 'texto entre \"aspas\" simples'\n",
    "print(texto) \n",
    "\n",
    "textao = \"\"\"\\ntexto... \\n com\\t muitas \n",
    "linhas e com aspas 'triplo-duplo'\"\"\" # \\t = tab  \\n = quebra de linha\n",
    "print(textao) "
   ]
  },
  {
   "cell_type": "code",
   "execution_count": null,
   "metadata": {},
   "outputs": [],
   "source": [
    "# PARTE 2 \n",
    "\n",
    "nome = 'Maristela Oliveira' \n",
    "print(nome[5],nome[-5]) # -5 conta de trás para frente \n",
    "# LEMBRANDO: índice começa sempre por 0, mas se for de tras pra frente vai começar com -1\n",
    "\n",
    "\n",
    "print(nome[10:]) # vai mostrar todas as letras A PARTIR do índice 10 \n",
    "print(nome[:10]) # vai mostrar todas as letras ATÉ o índice 10, o indíce 10 não conta \n",
    "print(nome[-9:]) #conta de trás para frente\n",
    "print(nome[:-9])  \n",
    "print(nome [7:13]) # a partir do indice 7 até o 13 \n",
    "\n",
    "numero = '1234567890' \n",
    "print(numero[::2]) # vai mostrar a string, contando de 2 em 2\n",
    "print(numero[1::2]) # vai mostrar a string, contando de 2 em 2 a partir do indíce 1\n",
    "print(numero[::-1]) # vai mostrar a string contando de trás para frente \n",
    "print(nome[::-1])  \n"
   ]
  },
  {
   "cell_type": "code",
   "execution_count": null,
   "metadata": {},
   "outputs": [],
   "source": [
    "# PARTE 3 \n",
    "frase = 'Linux é melhor que Windows?'\n",
    "print('win' in frase) \n",
    "print('Win' in frase)# difere caracteres maiúsculos e minusculos \n",
    "print('li' not in frase)\n",
    "print(frase.lower()) # função para deixar a frase inteira em CAIXA BAIXA \n",
    "print(frase.upper()) # função para deixar a frase inteira em CAIXA ALTA \n",
    "print(frase) # percebemos que as funções à cima não são definitivas \n",
    "print(len(frase)) # conta quantos elementos existem na string \n",
    "\n",
    "frase.split() # vai separar a string por padrão de espaço \n",
    "frase.split('i') # vai separar pela letra 'i' \n",
    "\n",
    "frase = frase.upper() # agora atribuindo a variável a função 'upper()'\n",
    "frase = frase.split('E') # se for 'e' minúsculo não vai separar, pois está em caixa alta agora\n",
    "print(frase) \n",
    "dir(str) \n",
    "help(str.capitalize)"
   ]
  },
  {
   "cell_type": "code",
   "execution_count": null,
   "metadata": {},
   "outputs": [],
   "source": [
    "# PARTE 4 - Metódos Mágicos\n",
    "\n",
    "a = '123'\n",
    "b = ' é o número da vez.'\n",
    "a + b # alto nível \n",
    "print(str.__add__(a,b)) #  nem tanto alto nível \n",
    "\n",
    "print(len(a)) \n",
    "print(str.__len__(b)) \n",
    "('1' in a) == (a.__contains__('1'))\n",
    "\n"
   ]
  },
  {
   "cell_type": "markdown",
   "metadata": {},
   "source": [
    "# LISTAS "
   ]
  },
  {
   "cell_type": "code",
   "execution_count": null,
   "metadata": {},
   "outputs": [],
   "source": [
    "# Parte 1 \n",
    "lista = [] \n",
    "type(lista) \n",
    "dir(list)  \n",
    "# help(list) \n",
    "lista.append(1) # lista dinâmmica (pode aumentar ou diminuir)\n",
    "lista.append(5)\n",
    "lista \n",
    "nova_lista = [2, 3, 'Bia', 'Leo'] # lista pode receber valores heterogêneos (float, int, str, bool)\n",
    "print(lista)\n",
    "print(nova_lista)  \n",
    "nova_lista.remove(3) # remove o valor especifico da lista\n",
    "print(nova_lista) \n",
    "nova_lista.reverse() # vai reverter a ordem da lista, é permanente!!\n",
    "print(nova_lista)\n"
   ]
  },
  {
   "cell_type": "code",
   "execution_count": null,
   "metadata": {},
   "outputs": [],
   "source": [
    "# PARTE 2 \n",
    "lista = [1, 4, 2.0, 'Rap', 'Funk'] \n",
    "print(lista.index(4)) #lugar do elemento com o valor 4 na lista \n",
    "# print(lista.index('rap')) ValueError: 'rap' is not in list \n",
    "print(lista.index('Rap'))\n",
    "print(lista[2])\n",
    "print(lista[-1]) #último elemento da lista\n",
    "\n",
    "print(len(lista),'\\n') # 'len(nome_da_lista) mostra quantos elementos eu tenho na lista\n",
    "print('Tenho {} elementos na lista.'.format(len(lista)))\n",
    "print(lista[2:4]) #mostra os elementos do indice 2 ao 3, não mostra o 4\n",
    "print(lista[::2]) #contando de 2 a 2 pelo indice \n",
    "2.01 in lista\n"
   ]
  },
  {
   "cell_type": "code",
   "execution_count": null,
   "metadata": {},
   "outputs": [],
   "source": [
    "# PARTE 3 \n",
    "\n",
    "lista = ['Ana', 'Lia', 'Rui', 'Paulo', 'Dani']\n",
    "lista[1:3]\n",
    "print(lista[1:-1]) # mostra do indice 1 até o penúlimo da lista, o -1(ultimo) não conta\n",
    "lista[1:] # mostra do indice 1 até o final\n",
    "lista[:-1] # mostra o ultimo elemento\n",
    "lista[:] # mostra a lista do começo ao fim\n",
    "lista[::2] # conta de 2 em 2 \n",
    "print(lista[::-1]) # conta de trás para frente, mas não é permanente!!! .reverse é permanente\n",
    "print(lista)\n",
    "del lista[2] # deleta o elemento de indice 2 da lista\n",
    "print(lista)\n",
    "del lista[1:] # deleta do elemento de indice 1 (Lia) até o final da lista\n",
    "print(lista)"
   ]
  },
  {
   "cell_type": "markdown",
   "metadata": {},
   "source": [
    "# LISTAS  (Curso em Videos, Guanabara)"
   ]
  },
  {
   "cell_type": "code",
   "execution_count": 1,
   "metadata": {},
   "outputs": [
    {
     "name": "stdout",
     "output_type": "stream",
     "text": [
      "[3, 5, 7]\n",
      "[1.0, 2.5, 7.3]\n"
     ]
    }
   ],
   "source": [
    "lista = [2, 4, 'rap', 'funk'] \n",
    "lista.insert(2, 'rock') #adiciona na posição 2 o valor 'rock'\n",
    "lista.append(4) #adiciona o valor 4 na última posicao\n",
    "lista \n",
    "lista_num = ['b', 'k', 't', 'd', 'a'] \n",
    "lista_num.sort() # ordena de forma crescente a lista\n",
    "lista_num \n",
    "len(lista_num) # conta quantos elementos existem na lista \n",
    "\n",
    "a = [3, 1, 5, 7] \n",
    "b = a # cria um LIGAÇÃO entre as variáveis\n",
    "\n",
    "b.pop(1) #remove\n",
    "print(a) # percebenos que tudo que acontece em 'b' afeta 'a' \n",
    "\n",
    "\n",
    "d = [1.0, 2.5, 7.3] \n",
    "c = d[:] # cria um CÓPIA de 'd' \n",
    "del c[2] #deleta o elemento 2 \n",
    "print(d) \n",
    "\n",
    "\n",
    "\n",
    "\n",
    "\n",
    "\n",
    "#for cont in range(0,5): \n",
    " #   lista.append(int(input('Digite aqui o número: '))) \n",
    "    \n",
    "#for c, v in enumerate(lista): \n",
    "   "
   ]
  },
  {
   "cell_type": "markdown",
   "metadata": {},
   "source": [
    "# Tuplas "
   ]
  },
  {
   "cell_type": "code",
   "execution_count": 16,
   "metadata": {},
   "outputs": [
    {
     "data": {
      "text/plain": [
       "2"
      ]
     },
     "execution_count": 16,
     "metadata": {},
     "output_type": "execute_result"
    }
   ],
   "source": [
    "tupla = tuple() \n",
    "tupla = ()\n",
    "type(tupla) \n",
    "\n",
    "tupla = ('str')\n",
    "type(tupla) \n",
    "tupla = ('tuple',)\n",
    "type(tupla) \n",
    "\n",
    "#dir(tupla)\n",
    "#help(tupla) \n",
    "tupla = (2,4,5,7,4) \n",
    "tupla.index(7) # pelo valor informa o indice \n",
    "#tupla.append(9) TUPLA SÃO IMUTÁVEIS \n",
    "tupla.count(4) # conta quantas vezes o valor aparece na tupla \n"
   ]
  },
  {
   "cell_type": "markdown",
   "metadata": {},
   "source": [
    "# Dicionários "
   ]
  },
  {
   "cell_type": "code",
   "execution_count": 76,
   "metadata": {},
   "outputs": [
    {
     "data": {
      "text/plain": [
       "dict_items([('nome', 'Felipe'), ('idade', 38), ('Linguagens', ['C++', 'Python'])])"
      ]
     },
     "execution_count": 76,
     "metadata": {},
     "output_type": "execute_result"
    }
   ],
   "source": [
    "pessoa = {'nome': 'Felipe', 'idade': 38, 'Linguagens': ['C++', 'Python']}\n",
    "type(pessoa) \n",
    "len(pessoa) #quatidade de pares (chave-valor) \n",
    "pessoa['nome'] # consultas por meio da chave\n",
    "pessoa['idade'] \n",
    "pessoa['Linguagens'] \n",
    "pessoa.keys() # todas as chaves do dicionario \n",
    "pessoa.values() # todos os valores que estão no dicionario \n",
    "pessoa.get('nome', 'eai') # também usado para fazer consultas pela chave\n",
    "pessoa.get('nomes') # se não existir a chave ele não da error, por meio do .get \n",
    "pessoa.get('nomes','não existe essa chave!') # e também pode me retornar o que eu quero caso não exista chave \n",
    "pessoa.items() # me informa os pares dividido por parenteses \n"
   ]
  },
  {
   "cell_type": "code",
   "execution_count": 80,
   "metadata": {},
   "outputs": [
    {
     "data": {
      "text/plain": [
       "{'nome': 'Felipe',\n",
       " 'Linguagens': ['C++', 'Python'],\n",
       " 'Ensino': 'Superior Incompleto'}"
      ]
     },
     "execution_count": 80,
     "metadata": {},
     "output_type": "execute_result"
    }
   ],
   "source": [
    "pessoa\n",
    "pessoa['idade'] = 25 \n",
    "pessoa\n",
    "# pessoa['Linguagens'].append('SQL') # usado para adicionar mais um valor a determinada chave \n",
    "#pessoa['idade'].append('SQL') \n",
    "\n",
    "pessoa.update({'Status': 'Solteiro', 'Ensino':'Superior Incompleto'}) #atualiza o dicionário\n",
    "# pessoa['Linguagens'].pop('SQL') \n",
    "pessoa.pop('idade') # LÊ E  EXCLUI A CHAVE ()\n",
    "del pessoa['Status'] # EXCLUI A CHAVE []\n",
    "#pessoa.clear() #limpa o dicionário \n",
    "pessoa"
   ]
  },
  {
   "cell_type": "markdown",
   "metadata": {},
   "source": [
    "# Conjuntos (SET)"
   ]
  },
  {
   "cell_type": "code",
   "execution_count": 39,
   "metadata": {},
   "outputs": [
    {
     "name": "stdout",
     "output_type": "stream",
     "text": [
      "{'i', 'e', 'f', 'l', 'p'}\n",
      "True False\n",
      "\n",
      " {1, 2, 3, 4, 5}\n",
      "{2}\n",
      "{1, 2, 4}\n"
     ]
    },
    {
     "data": {
      "text/plain": [
       "{1, 4}"
      ]
     },
     "execution_count": 39,
     "metadata": {},
     "output_type": "execute_result"
    }
   ],
   "source": [
    "a = {1,2,3}\n",
    "a \n",
    "a = set('felipe') # colocando a funcao set ele separa a string por letra\n",
    "print(a) \n",
    "print('f' in a, 1 in  a)\n",
    "{1,2,4} == {2,4,2,1} # conjuntos não gravam duas vezes o mesmo conteudo e não se importam com a ordem, portanto TRUE\n",
    "\n",
    "#OPERADORES DE CONJUNTO \n",
    "c1 = {2,4}\n",
    "c2 = {3,5}\n",
    "c3 = {1,2}\n",
    "print('\\n',c1.union(c2,c3)) #união de dois ou mais conjuntos, sem afetar os valores dos conjuntos\n",
    "print(c1.intersection(c3)) # interseção entre conjuntos, \"\"\n",
    "c1.update(c3) # unindo e afetando os valores do conjunto \n",
    "print(c1) \n",
    "\n",
    "c3 <= c1 # c3 esta contido de c1 ? \n",
    "c1 >= c3 # c1 contem c3 ? \n",
    "\n",
    "c1 - c3 # subtração de conjuntos, sem afetar dos valores\n",
    "c1 -= {2} # atribuiçao subtrativa, subtração afetando os valores\n",
    "#c1 += {7}\n",
    "c1\n",
    "\n"
   ]
  },
  {
   "cell_type": "markdown",
   "metadata": {},
   "source": [
    "# Interpolação"
   ]
  },
  {
   "cell_type": "code",
   "execution_count": 50,
   "metadata": {},
   "outputs": [
    {
     "name": "stdout",
     "output_type": "stream",
     "text": [
      "Nome: Henrique  Idade: 20\n",
      "Nome: Henrique  Idade: 20\n",
      "Nome: Henrique  Idade: 20\n"
     ]
    }
   ],
   "source": [
    "nome, idade = 'Henrique', 20 \n",
    "print('Nome: %s  Idade: %d' % (nome,idade)) # mais antiga \n",
    "print('Nome: {0}  Idade: {1}' .format(nome,idade)) # python < 3.6 \n",
    "print(f'Nome: {nome}  Idade: {idade}') # mais moderna"
   ]
  },
  {
   "cell_type": "code",
   "execution_count": null,
   "metadata": {},
   "outputs": [],
   "source": []
  }
 ],
 "metadata": {
  "kernelspec": {
   "display_name": "Python 3",
   "language": "python",
   "name": "python3"
  },
  "language_info": {
   "codemirror_mode": {
    "name": "ipython",
    "version": 3
   },
   "file_extension": ".py",
   "mimetype": "text/x-python",
   "name": "python",
   "nbconvert_exporter": "python",
   "pygments_lexer": "ipython3",
   "version": "3.7.3"
  }
 },
 "nbformat": 4,
 "nbformat_minor": 2
}
